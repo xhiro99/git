{
  "nbformat": 4,
  "nbformat_minor": 0,
  "metadata": {
    "colab": {
      "provenance": [],
      "authorship_tag": "ABX9TyPW1Y2lxBa4ewT0EupWTIIk",
      "include_colab_link": true
    },
    "kernelspec": {
      "name": "python3",
      "display_name": "Python 3"
    },
    "language_info": {
      "name": "python"
    }
  },
  "cells": [
    {
      "cell_type": "markdown",
      "metadata": {
        "id": "view-in-github",
        "colab_type": "text"
      },
      "source": [
        "<a href=\"https://colab.research.google.com/github/xhiro99/git/blob/main/Untitled0.ipynb\" target=\"_parent\"><img src=\"https://colab.research.google.com/assets/colab-badge.svg\" alt=\"Open In Colab\"/></a>"
      ]
    },
    {
      "cell_type": "code",
      "execution_count": null,
      "metadata": {
        "colab": {
          "base_uri": "https://localhost:8080/"
        },
        "id": "HKF8mVnnVvg4",
        "outputId": "f1111148-b798-4821-a6fc-a1b7a9c8f336"
      },
      "outputs": [
        {
          "output_type": "stream",
          "name": "stdout",
          "text": [
            "[1 2 3 4 5 6]\n"
          ]
        }
      ],
      "source": [
        "import numpy as np\n",
        "np_array=np.array([1,2,3,4,5,6])\n",
        "print(np_array)\n"
      ]
    },
    {
      "cell_type": "code",
      "source": [
        "b=np.array([(1,2,3,4,5),(6,7,8,9,10)])\n",
        "print(b)"
      ],
      "metadata": {
        "colab": {
          "base_uri": "https://localhost:8080/"
        },
        "id": "wEaeMaqoV_J2",
        "outputId": "30d3ba8f-b305-4e0d-d86e-9074069b76d9"
      },
      "execution_count": null,
      "outputs": [
        {
          "output_type": "stream",
          "name": "stdout",
          "text": [
            "[[ 1  2  3  4  5]\n",
            " [ 6  7  8  9 10]]\n"
          ]
        }
      ]
    },
    {
      "cell_type": "code",
      "source": [
        "b=np.array([(1,2,3,4,5),(6,7,8,9,10)])\n",
        "print(b)\n",
        "b.shape"
      ],
      "metadata": {
        "colab": {
          "base_uri": "https://localhost:8080/"
        },
        "id": "8iVEH4JGWO6q",
        "outputId": "670b2a78-5170-452c-85b2-669fbe0289ff"
      },
      "execution_count": null,
      "outputs": [
        {
          "output_type": "stream",
          "name": "stdout",
          "text": [
            "[[ 1  2  3  4  5]\n",
            " [ 6  7  8  9 10]]\n"
          ]
        },
        {
          "output_type": "execute_result",
          "data": {
            "text/plain": [
              "(2, 5)"
            ]
          },
          "metadata": {},
          "execution_count": 3
        }
      ]
    },
    {
      "cell_type": "code",
      "source": [
        "x=np.zeros((4,5))\n",
        "print(x)"
      ],
      "metadata": {
        "colab": {
          "base_uri": "https://localhost:8080/"
        },
        "id": "S2pakKbkWS5D",
        "outputId": "76e4315e-f130-4c7c-ee30-43398817793b"
      },
      "execution_count": null,
      "outputs": [
        {
          "output_type": "stream",
          "name": "stdout",
          "text": [
            "[[0. 0. 0. 0. 0.]\n",
            " [0. 0. 0. 0. 0.]\n",
            " [0. 0. 0. 0. 0.]\n",
            " [0. 0. 0. 0. 0.]]\n"
          ]
        }
      ]
    },
    {
      "cell_type": "code",
      "source": [
        "y=np.ones((4,5))\n",
        "print(y)"
      ],
      "metadata": {
        "colab": {
          "base_uri": "https://localhost:8080/"
        },
        "id": "bmjsxWWSWYi3",
        "outputId": "25445834-02f3-416c-e0fc-4d7fe0e979c1"
      },
      "execution_count": null,
      "outputs": [
        {
          "output_type": "stream",
          "name": "stdout",
          "text": [
            "[[1. 1. 1. 1. 1.]\n",
            " [1. 1. 1. 1. 1.]\n",
            " [1. 1. 1. 1. 1.]\n",
            " [1. 1. 1. 1. 1.]]\n"
          ]
        }
      ]
    },
    {
      "cell_type": "code",
      "source": [
        "e=np.eye(5)\n",
        "print(e)"
      ],
      "metadata": {
        "colab": {
          "base_uri": "https://localhost:8080/"
        },
        "id": "TQeHwFMlWfuE",
        "outputId": "4051ae14-8581-41e7-e2c7-33f405efc9c6"
      },
      "execution_count": null,
      "outputs": [
        {
          "output_type": "stream",
          "name": "stdout",
          "text": [
            "[[1. 0. 0. 0. 0.]\n",
            " [0. 1. 0. 0. 0.]\n",
            " [0. 0. 1. 0. 0.]\n",
            " [0. 0. 0. 1. 0.]\n",
            " [0. 0. 0. 0. 1.]]\n"
          ]
        }
      ]
    },
    {
      "cell_type": "code",
      "source": [
        "import pandas as pd\n",
        "data={\n",
        "    'name':['ajay','vijay','suresh'],\n",
        "    'age':[20,30,40],\n",
        "    'city':['banglore']\n",
        "}\n",
        "print(data)"
      ],
      "metadata": {
        "colab": {
          "base_uri": "https://localhost:8080/"
        },
        "id": "HiuGlQTJWxZ4",
        "outputId": "bcc5042f-5a0c-4b2d-dae8-ecf7eed76011"
      },
      "execution_count": null,
      "outputs": [
        {
          "output_type": "stream",
          "name": "stdout",
          "text": [
            "{'name': ['ajay', 'vijay', 'suresh'], 'age': [20, 30, 40], 'city': ['banglore']}\n"
          ]
        }
      ]
    },
    {
      "cell_type": "code",
      "source": [
        "data = {'Name': ['Alice', 'Bob'], 'Age': [25, 30]}\n",
        "df1 = pd.DataFrame(data)\n",
        "print(df1)"
      ],
      "metadata": {
        "colab": {
          "base_uri": "https://localhost:8080/"
        },
        "id": "1G594fu3Wl9D",
        "outputId": "90c4d610-b096-4932-c5ae-51f41c47dec8"
      },
      "execution_count": null,
      "outputs": [
        {
          "output_type": "stream",
          "name": "stdout",
          "text": [
            "    Name  Age\n",
            "0  Alice   25\n",
            "1    Bob   30\n"
          ]
        }
      ]
    },
    {
      "cell_type": "code",
      "source": [
        "data = {'Name': ['Alice', 'Bob'], 'Age': [25, 30]}\n",
        "df1 = pd.DataFrame(data)\n",
        "print(df1)\n",
        "print(df1.info())\n",
        "print(df1.describe())\n",
        "print(df1.head())"
      ],
      "metadata": {
        "colab": {
          "base_uri": "https://localhost:8080/"
        },
        "id": "nFPonhtEW3yb",
        "outputId": "1efc2a6f-2590-438c-c237-092ecaefb7ad"
      },
      "execution_count": null,
      "outputs": [
        {
          "output_type": "stream",
          "name": "stdout",
          "text": [
            "    Name  Age\n",
            "0  Alice   25\n",
            "1    Bob   30\n",
            "<class 'pandas.core.frame.DataFrame'>\n",
            "RangeIndex: 2 entries, 0 to 1\n",
            "Data columns (total 2 columns):\n",
            " #   Column  Non-Null Count  Dtype \n",
            "---  ------  --------------  ----- \n",
            " 0   Name    2 non-null      object\n",
            " 1   Age     2 non-null      int64 \n",
            "dtypes: int64(1), object(1)\n",
            "memory usage: 164.0+ bytes\n",
            "None\n",
            "             Age\n",
            "count   2.000000\n",
            "mean   27.500000\n",
            "std     3.535534\n",
            "min    25.000000\n",
            "25%    26.250000\n",
            "50%    27.500000\n",
            "75%    28.750000\n",
            "max    30.000000\n",
            "    Name  Age\n",
            "0  Alice   25\n",
            "1    Bob   30\n"
          ]
        }
      ]
    },
    {
      "cell_type": "code",
      "source": [
        "data = {'Name': ['Alice', 'Bob'], 'Age': [25, 30]}\n",
        "df1 = pd.DataFrame(data)\n",
        "print(df1)\n",
        "print(df1.info())\n",
        "print(df1.describe())\n",
        "print(df1.head())\n",
        "print(df1['Age'])"
      ],
      "metadata": {
        "colab": {
          "base_uri": "https://localhost:8080/"
        },
        "id": "myWwlM_2W9Mo",
        "outputId": "2bc63ce2-5371-4525-8c0a-3ced3548e760"
      },
      "execution_count": null,
      "outputs": [
        {
          "output_type": "stream",
          "name": "stdout",
          "text": [
            "    Name  Age\n",
            "0  Alice   25\n",
            "1    Bob   30\n",
            "<class 'pandas.core.frame.DataFrame'>\n",
            "RangeIndex: 2 entries, 0 to 1\n",
            "Data columns (total 2 columns):\n",
            " #   Column  Non-Null Count  Dtype \n",
            "---  ------  --------------  ----- \n",
            " 0   Name    2 non-null      object\n",
            " 1   Age     2 non-null      int64 \n",
            "dtypes: int64(1), object(1)\n",
            "memory usage: 164.0+ bytes\n",
            "None\n",
            "             Age\n",
            "count   2.000000\n",
            "mean   27.500000\n",
            "std     3.535534\n",
            "min    25.000000\n",
            "25%    26.250000\n",
            "50%    27.500000\n",
            "75%    28.750000\n",
            "max    30.000000\n",
            "    Name  Age\n",
            "0  Alice   25\n",
            "1    Bob   30\n",
            "0    25\n",
            "1    30\n",
            "Name: Age, dtype: int64\n"
          ]
        }
      ]
    },
    {
      "cell_type": "code",
      "source": [
        "data = {'Name': ['Alice', 'Bob'], 'Age': [25, 30]}\n",
        "df1 = pd.DataFrame(data)\n",
        "print(df1)\n",
        "print(df1.info())\n",
        "print(df1.describe())\n",
        "print(df1.head())\n",
        "print(df1['Age'])"
      ],
      "metadata": {
        "colab": {
          "base_uri": "https://localhost:8080/"
        },
        "id": "u6JWYKbnXBax",
        "outputId": "5a319130-c653-4908-c0a6-9958adf5c31d"
      },
      "execution_count": null,
      "outputs": [
        {
          "output_type": "stream",
          "name": "stdout",
          "text": [
            "    Name  Age\n",
            "0  Alice   25\n",
            "1    Bob   30\n",
            "<class 'pandas.core.frame.DataFrame'>\n",
            "RangeIndex: 2 entries, 0 to 1\n",
            "Data columns (total 2 columns):\n",
            " #   Column  Non-Null Count  Dtype \n",
            "---  ------  --------------  ----- \n",
            " 0   Name    2 non-null      object\n",
            " 1   Age     2 non-null      int64 \n",
            "dtypes: int64(1), object(1)\n",
            "memory usage: 164.0+ bytes\n",
            "None\n",
            "             Age\n",
            "count   2.000000\n",
            "mean   27.500000\n",
            "std     3.535534\n",
            "min    25.000000\n",
            "25%    26.250000\n",
            "50%    27.500000\n",
            "75%    28.750000\n",
            "max    30.000000\n",
            "    Name  Age\n",
            "0  Alice   25\n",
            "1    Bob   30\n",
            "0    25\n",
            "1    30\n",
            "Name: Age, dtype: int64\n"
          ]
        }
      ]
    },
    {
      "cell_type": "code",
      "source": [
        "df1['Salary']=[5000,6000]\n",
        "print(df1)"
      ],
      "metadata": {
        "colab": {
          "base_uri": "https://localhost:8080/"
        },
        "id": "_2Jt06QRXEI7",
        "outputId": "bc526cdc-ae06-4d36-9308-a680be81d936"
      },
      "execution_count": null,
      "outputs": [
        {
          "output_type": "stream",
          "name": "stdout",
          "text": [
            "    Name  Age  Salary\n",
            "0  Alice   25    5000\n",
            "1    Bob   30    6000\n"
          ]
        }
      ]
    },
    {
      "cell_type": "code",
      "source": [
        "data = {'Name': ['Alice', 'Bob'], 'Age': [25, 30]}\n",
        "df1 = pd.DataFrame(data)\n",
        "print(df1)\n",
        "print(df1.info())\n",
        "print(df1.describe())\n",
        "print(df1.head())\n",
        "print(df1['Age'])\n",
        "df1['Salary']=[5000,6000]\n",
        "print(df1)"
      ],
      "metadata": {
        "colab": {
          "base_uri": "https://localhost:8080/"
        },
        "id": "cQU19TXDXMMR",
        "outputId": "3592d224-5bc9-4243-dff9-b7657d7f3035"
      },
      "execution_count": null,
      "outputs": [
        {
          "output_type": "stream",
          "name": "stdout",
          "text": [
            "    Name  Age\n",
            "0  Alice   25\n",
            "1    Bob   30\n",
            "<class 'pandas.core.frame.DataFrame'>\n",
            "RangeIndex: 2 entries, 0 to 1\n",
            "Data columns (total 2 columns):\n",
            " #   Column  Non-Null Count  Dtype \n",
            "---  ------  --------------  ----- \n",
            " 0   Name    2 non-null      object\n",
            " 1   Age     2 non-null      int64 \n",
            "dtypes: int64(1), object(1)\n",
            "memory usage: 164.0+ bytes\n",
            "None\n",
            "             Age\n",
            "count   2.000000\n",
            "mean   27.500000\n",
            "std     3.535534\n",
            "min    25.000000\n",
            "25%    26.250000\n",
            "50%    27.500000\n",
            "75%    28.750000\n",
            "max    30.000000\n",
            "    Name  Age\n",
            "0  Alice   25\n",
            "1    Bob   30\n",
            "0    25\n",
            "1    30\n",
            "Name: Age, dtype: int64\n",
            "    Name  Age  Salary\n",
            "0  Alice   25    5000\n",
            "1    Bob   30    6000\n"
          ]
        }
      ]
    },
    {
      "cell_type": "code",
      "source": [
        "import matplotlib.pyplot as plt\n",
        "x=[1,2,3,4,5]\n",
        "y=[10,30,20,50,40]\n",
        "#create the plot using the above two dimensional values\n",
        "#plt.pie(x)\n",
        "plt.pie(y)\n",
        "\n",
        "plt.xlabel(\"Days\")\n",
        "plt.ylabel(\"marks\")"
      ],
      "metadata": {
        "colab": {
          "base_uri": "https://localhost:8080/",
          "height": 443
        },
        "id": "5pWI5weiXOfE",
        "outputId": "fb0b7e99-8b2a-4d0a-f906-297fda5a206f"
      },
      "execution_count": null,
      "outputs": [
        {
          "output_type": "execute_result",
          "data": {
            "text/plain": [
              "Text(0, 0.5, 'marks')"
            ]
          },
          "metadata": {},
          "execution_count": 19
        },
        {
          "output_type": "display_data",
          "data": {
            "text/plain": [
              "<Figure size 640x480 with 1 Axes>"
            ],
            "image/png": "[encoded data removed]"
          },
          "metadata": {}
        }
      ]
    },
    {
      "cell_type": "code",
      "source": [],
      "metadata": {
        "id": "wXq5dloLXtu5"
      },
      "execution_count": null,
      "outputs": []
    }
  ]
}